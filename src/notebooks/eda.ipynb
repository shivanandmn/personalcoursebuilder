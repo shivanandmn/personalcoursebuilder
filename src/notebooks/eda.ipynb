{
 "cells": [
  {
   "cell_type": "code",
   "execution_count": 1,
   "metadata": {},
   "outputs": [],
   "source": [
    "import re\n",
    "from datetime import timedelta\n",
    "\n",
    "def parse_time_string(time_str):\n",
    "    if \"On-Demand\" in time_str:\n",
    "        return 0  # or some default value like a specific number of hours if you prefer\n",
    "\n",
    "    weeks = days = hours = minutes = 0\n",
    "\n",
    "    # Regular expressions for matching different time components\n",
    "    week_match = re.search(r\"(\\d+)-?(\\d+)?\\s*weeks?\", time_str)\n",
    "    day_match = re.search(r\"(\\d+)-?(\\d+)?\\s*days?\", time_str)\n",
    "    hour_match = re.search(r\"(\\d+)-?(\\d+)?\\s*hours?\", time_str)\n",
    "    minute_match = re.search(r\"(\\d+)-?(\\d+)?\\s*minutes?\", time_str)\n",
    "\n",
    "    # Extract weeks\n",
    "    if week_match:\n",
    "        if week_match.group(2):\n",
    "            weeks = (int(week_match.group(1)) + int(week_match.group(2))) // 2\n",
    "        else:\n",
    "            weeks = int(week_match.group(1))\n",
    "\n",
    "    # Extract days\n",
    "    if day_match:\n",
    "        if day_match.group(2):\n",
    "            days = (int(day_match.group(1)) + int(day_match.group(2))) // 2\n",
    "        else:\n",
    "            days = int(day_match.group(1))\n",
    "\n",
    "    # Extract hours\n",
    "    if hour_match:\n",
    "        if hour_match.group(2):\n",
    "            hours = (int(hour_match.group(1)) + int(hour_match.group(2))) // 2\n",
    "        else:\n",
    "            hours = int(hour_match.group(1))\n",
    "\n",
    "    # Extract minutes\n",
    "    if minute_match:\n",
    "        if minute_match.group(2):\n",
    "            minutes = (int(minute_match.group(1)) + int(minute_match.group(2))) // 2\n",
    "        else:\n",
    "            minutes = int(minute_match.group(1))\n",
    "\n",
    "    # Convert everything to total hours\n",
    "    total_hours = weeks * 7 * 24 + days * 24 + hours + minutes / 60\n",
    "    return total_hours\n"
   ]
  },
  {
   "cell_type": "code",
   "execution_count": 3,
   "metadata": {},
   "outputs": [],
   "source": [
    "# Import the necessary library for cosine similarity\n",
    "import pandas as pd\n",
    "\n",
    "\n",
    "# Load the dataset\n",
    "df = pd.read_csv(\"/home/sigmoid/developer/ml_projects/personalcoursebuilder/data/raw/course/courses_103190.csv\")\n",
    "\n",
    "# Rename columns for consistency\n",
    "map_cols = {\n",
    "    \"course_id\": \"_id\",\n",
    "    \"course_name\": \"name\",\n",
    "    \"description\": \"description\",\n",
    "    \"duration\": \"duration\",\n",
    "    \"cost\": \"pricing\",\n",
    "    \"course_level\": \"level\",\n",
    "    \"course_provider\": \"provider\",\n",
    "    \"course_num_rating\": \"num_rating\",\n",
    "    \"course_avg_rating\": \"avg_rating\",\n",
    "    \"rating\": \"rating\",\n",
    "    \"language\": \"language\",\n",
    "    \"course_certificate\": \"certificate\",\n",
    "    \"course_subject\": \"subject\",\n",
    "    \"course_type\": \"type\",\n",
    "}\n",
    "\n",
    "df = df.rename(columns=map_cols)\n",
    "df = df[list(map_cols.values())]\n",
    "df = df[df[\"language\"]==\"English\"]\n",
    "df[\"duration_hrs\"] = df[\"duration\"].apply(parse_time_string)"
   ]
  },
  {
   "cell_type": "code",
   "execution_count": 5,
   "metadata": {},
   "outputs": [
    {
     "name": "stdout",
     "output_type": "stream",
     "text": [
      "<class 'pandas.core.frame.DataFrame'>\n",
      "Index: 67399 entries, 0 to 103030\n",
      "Data columns (total 15 columns):\n",
      " #   Column        Non-Null Count  Dtype  \n",
      "---  ------        --------------  -----  \n",
      " 0   _id           67399 non-null  int64  \n",
      " 1   name          67399 non-null  object \n",
      " 2   description   67399 non-null  object \n",
      " 3   duration      67399 non-null  object \n",
      " 4   pricing       66031 non-null  object \n",
      " 5   level         15368 non-null  object \n",
      " 6   provider      67399 non-null  object \n",
      " 7   num_rating    67399 non-null  int64  \n",
      " 8   avg_rating    67399 non-null  float64\n",
      " 9   rating        67399 non-null  object \n",
      " 10  language      67399 non-null  object \n",
      " 11  certificate   67399 non-null  int64  \n",
      " 12  subject       67399 non-null  object \n",
      " 13  type          67399 non-null  object \n",
      " 14  duration_hrs  67399 non-null  float64\n",
      "dtypes: float64(2), int64(3), object(10)\n",
      "memory usage: 8.2+ MB\n"
     ]
    }
   ],
   "source": [
    "df.info()"
   ]
  },
  {
   "cell_type": "code",
   "execution_count": 11,
   "metadata": {},
   "outputs": [
    {
     "data": {
      "text/plain": [
       "array(['edX', 'OpenLearn', 'Swayam', 'Cybrary', 'Udacity', 'freeCodeCamp',\n",
       "       'Udemy', 'Coursera', 'YouTube', 'Pluralsight', 'LinkedIn Learning',\n",
       "       'FutureLearn', 'Independent', 'MIT OpenCourseWare',\n",
       "       'Saylor Academy', 'Skillshare', 'Cisco Networking Academy',\n",
       "       'Trailhead', 'egghead.io', 'AWS Skill Builder', 'Microsoft Learn',\n",
       "       'Frontend Masters', 'Study.com', 'MasterClass',\n",
       "       'California Community Colleges System', 'Codecademy', 'Kadenze',\n",
       "       'openSAP', 'Cognitive Class', 'Edureka', 'Treehouse', 'Scrimba',\n",
       "       'Laracasts', 'The Odin Project', 'openHPI', 'Open2Study',\n",
       "       'iversity', 'Polimi OPEN KNOWLEDGE', 'OpenLearning', 'Kaggle',\n",
       "       'Exercism', 'HubSpot Academy', 'Domestika',\n",
       "       'Google Cloud Skills Boost', 'Canvas Network', 'Zero To Mastery',\n",
       "       'CreativeLive', 'DataCamp', 'Test Automation University',\n",
       "       'SymfonyCasts', 'The Great Courses Plus', 'TryHackMe',\n",
       "       'PentesterAcademy', 'ThaiMOOC', 'Wolfram U', 'A Cloud Guru',\n",
       "       'Qwiklabs', 'Semrush Academy', 'France Université Numerique',\n",
       "       'MOOC-ED', 'Craftsy', 'MATLAB Academy', 'Designlab', 'Skillshop',\n",
       "       'OPEN.ED@PSU', 'Stanford OpenEdx', 'MongoDB University',\n",
       "       'JuliaAcademy', 'Complexity Explorer', 'Brilliant', 'Jovian',\n",
       "       'World Science U', 'NovoEd', 'Open Education by Blackboard',\n",
       "       'OpenWHO', 'EdCast', 'Miríadax', 'StraighterLine',\n",
       "       'Marginal Revolution University'], dtype=object)"
      ]
     },
     "execution_count": 11,
     "metadata": {},
     "output_type": "execute_result"
    }
   ],
   "source": [
    "df[\"provider\"].unique()"
   ]
  }
 ],
 "metadata": {
  "kernelspec": {
   "display_name": "pcb",
   "language": "python",
   "name": "python3"
  },
  "language_info": {
   "codemirror_mode": {
    "name": "ipython",
    "version": 3
   },
   "file_extension": ".py",
   "mimetype": "text/x-python",
   "name": "python",
   "nbconvert_exporter": "python",
   "pygments_lexer": "ipython3",
   "version": "3.11.10"
  }
 },
 "nbformat": 4,
 "nbformat_minor": 2
}
